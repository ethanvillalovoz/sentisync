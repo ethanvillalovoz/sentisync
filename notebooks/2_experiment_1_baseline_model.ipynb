{
 "cells": [
  {
   "cell_type": "markdown",
   "id": "859f99a6",
   "metadata": {},
   "source": [
    "# MLflow on AWS\n",
    "\n",
    "## MLflow on AWS Setup:\n",
    "\n",
    "1. Login to AWS console.\n",
    "2. Create IAM user with AdministratorAccess\n",
    "3. Export the credentials in your AWS CLI by running \"aws configure\"\n",
    "4. Create a s3 bucket\n",
    "5. Create EC2 machine (Ubuntu) & add Security groups 5000 port\n",
    "\n",
    "Run the following command on EC2 machine\n",
    "```bash\n",
    "sudo apt update\n",
    "\n",
    "sudo apt install python3-pip\n",
    "\n",
    "sudo apt install pipenv\n",
    "\n",
    "sudo apt install virtualenv\n",
    "\n",
    "mkdir mlflow\n",
    "\n",
    "cd mlflow\n",
    "\n",
    "pipenv install mlflow\n",
    "\n",
    "pipenv install awscli\n",
    "\n",
    "pipenv install boto3\n",
    "\n",
    "pipenv shell\n",
    "\n",
    "\n",
    "# Then set aws credentials\n",
    "aws configure\n",
    "\n",
    "# These are the credintials you saved after making an IAM account\n",
    "# I.e. `foo_accessKeys.csv`\n",
    "# Default Region Name should be whatever region you see you are on for AWS on the top right of the homepage\n",
    "# i.e. `us-west-2`\n",
    "# You can leave `Default output format [None]:` as blank/empty. Just click enter\n",
    "\n",
    "# Finally \n",
    "mlflow server -h 0.0.0.0 --default-artifact-root s3://foo\n",
    "# One thing to note is that `mlflow-test` should be replaced with the S3 bucket name you made earlier\n",
    "# i.e. `mlflow server -h 0.0.0.0 --default-artifact-root s3://your_S3_bucket_name`\n",
    "\n",
    "# open Public IPv4 DNS to the port 5000\n",
    "# In your instance, go to Security -> Security groups -> Edit Inbound rules\n",
    "# Add Type: Custom TCP, Port Range: 5000, 0.0.0.0/0\n",
    "\n",
    "# Copy Public DNS url and add `:5000`. to open your EC2 Instance with MLFlow\n",
    "# i.e. `foo:5000`\n",
    "\n",
    "#set uri in your local terminal and in your code \n",
    "export MLFLOW_TRACKING_URI=http://'your_public_DNS.from_EC2_instance.com':5000/\n",
    "\n",
    "# Or create .env file, example is in repo\n",
    "```"
   ]
  },
  {
   "cell_type": "code",
   "execution_count": 3,
   "id": "52bb0942",
   "metadata": {},
   "outputs": [
    {
     "name": "stdout",
     "output_type": "stream",
     "text": [
      "🏃 View run useful-slug-623 at: http://ec2-44-249-137-23.us-west-2.compute.amazonaws.com:5000/#/experiments/0/runs/7b522728f0754386a1923e66f4a52685\n",
      "🧪 View experiment at: http://ec2-44-249-137-23.us-west-2.compute.amazonaws.com:5000/#/experiments/0\n"
     ]
    }
   ],
   "source": [
    "import os\n",
    "import mlflow\n",
    "\n",
    "mlflow.set_tracking_uri(os.environ.get(\"MLFLOW_TRACKING_URI\"))\n",
    "\n",
    "with mlflow.start_run():\n",
    "    mlflow.log_param(\"param1\", 15)\n",
    "    mlflow.log_metric(\"metric1\", 0.89)"
   ]
  },
  {
   "cell_type": "code",
   "execution_count": null,
   "id": "515fdd70",
   "metadata": {},
   "outputs": [],
   "source": []
  }
 ],
 "metadata": {
  "kernelspec": {
   "display_name": "sentisync",
   "language": "python",
   "name": "python3"
  },
  "language_info": {
   "codemirror_mode": {
    "name": "ipython",
    "version": 3
   },
   "file_extension": ".py",
   "mimetype": "text/x-python",
   "name": "python",
   "nbconvert_exporter": "python",
   "pygments_lexer": "ipython3",
   "version": "3.13.5"
  }
 },
 "nbformat": 4,
 "nbformat_minor": 5
}
