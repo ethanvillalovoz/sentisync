{
 "cells": [
  {
   "cell_type": "markdown",
   "id": "0ee24dab",
   "metadata": {},
   "source": [
    "# Which vectorization?"
   ]
  }
 ],
 "metadata": {
  "kernelspec": {
   "display_name": "sentisync",
   "language": "python",
   "name": "python3"
  },
  "language_info": {
   "name": "python",
   "version": "3.13.5"
  }
 },
 "nbformat": 4,
 "nbformat_minor": 5
}
